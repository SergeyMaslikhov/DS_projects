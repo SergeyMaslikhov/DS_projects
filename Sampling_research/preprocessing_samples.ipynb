{
 "cells": [
  {
   "cell_type": "code",
   "execution_count": 66,
   "id": "f2211efe",
   "metadata": {},
   "outputs": [],
   "source": [
    "from nltk.corpus import reuters\n",
    "from sklearn.datasets import fetch_20newsgroups\n",
    "\n",
    "import re\n",
    "from collections import Counter\n",
    "import pandas as pd\n",
    "import numpy as np\n",
    "\n",
    "import nltk\n",
    "import pymorphy2\n",
    "from nltk.stem import WordNetLemmatizer\n",
    "import spacy\n",
    "from stop_words import get_stop_words\n",
    "from nltk import word_tokenize\n",
    "import string\n",
    "\n",
    "nlp = spacy.load(\"en_core_web_sm\")"
   ]
  },
  {
   "cell_type": "markdown",
   "id": "695a235e",
   "metadata": {},
   "source": [
    "**FAQ sample**"
   ]
  },
  {
   "cell_type": "code",
   "execution_count": 14,
   "id": "630d7b3d",
   "metadata": {},
   "outputs": [],
   "source": [
    "#load sample\n",
    "faq_df = pd.read_csv('list.txt', header=0, sep='\\t')\n",
    "morph = pymorphy2.MorphAnalyzer()\n",
    "#load stop words\n",
    "with open('stop_words.txt','r') as inFile:\n",
    "    stop_list = set(inFile.read().split())\n",
    "\n",
    "def preprocessing(message):\n",
    "    '''\n",
    "    Extracting russian terms, normalizing them and erasing stop-words\n",
    "    '''\n",
    "    russian_terms =  re.findall(r'[а-яА-Яё]+', str(message).lower())\n",
    "    normalized_terms = list(map(lambda x: morph.parse(x)[0].normal_form, russian_terms))\n",
    "    return ' '.join([term for term in normalized_terms if term not in stop_list])"
   ]
  },
  {
   "cell_type": "code",
   "execution_count": 15,
   "id": "5e24c042",
   "metadata": {
    "scrolled": true
   },
   "outputs": [],
   "source": [
    "faq_df['first_msg'] = faq_df['first_msg'].apply(preprocessing)"
   ]
  },
  {
   "cell_type": "code",
   "execution_count": 18,
   "id": "b54d1df5",
   "metadata": {},
   "outputs": [],
   "source": [
    "# drop empty first_msg\n",
    "filt = faq_df['first_msg'].apply(len) == 0\n",
    "faq_df.drop(index= faq_df[filt].index, inplace=True)"
   ]
  },
  {
   "cell_type": "code",
   "execution_count": 20,
   "id": "d55be4d7",
   "metadata": {},
   "outputs": [],
   "source": [
    "# delete small categories\n",
    "for name in ['Postmaster', 'Уровень ПЦК::Песочница', 'Уровень ПЦК::ВФК и ВФА', 'Уровень ПЦК::ИС Сборы',\n",
    "            'Уровень ПЦК::Перечни услуг', 'Misc']:\n",
    "    filt = faq_df['queue'] == name\n",
    "    faq_df.drop(index=faq_df[filt].index, inplace = True)\n",
    "    \n",
    "# merge few categories into one\n",
    "for names, general_name  in zip((['Уровень ПЦК::ИС ПОУ', 'Уровень ПЦК::ПОУ'], ['Уровень ПЦК::АСУ ПФХД', 'Уровень ПЦК::Переход на АСУ ПФХД', \n",
    "                                'Уровень ПЦК::Бюджетирование и планирование ФХД'], ['Уровень ПЦК::ГЗ', 'Уровень ПЦК::ИС ГЗ'],\n",
    "                                 ['Уровень ПЦК::Навигатор абитуриента', 'Уровень ПЦК::Поступай правильно 2.0', 'Уровень ПЦК::Поступай правильно 2.0 - МЭИ'],\n",
    "                                 ['Уровень ПЦК::АК КСУФ', 'Уровень ПЦК::АК КСУФ МЭИ'], ['Уровень ПЦК::Расчет субсидии', 'Уровень ПЦК::Стипендии', 'Уровень ПЦК::Публичные обязательства', 'Уровень ПЦК::Текущее финансирование'],\n",
    "                                 ['Уровень ПЦК::Нормативные затраты', 'Уровень ПЦК::\"ИАЦ УГС\"'], ['Уровень ПЦК::Семинары-совещания', 'Уровень ПЦК::Повышение квалификации'], ['Спам']),\n",
    "                                ('Уровень ПЦК::ПОУ', 'Уровень ПЦК:: Бюджетирование и ПФХД', 'Уровень ПЦК::ГЗ', 'Уровень ПЦК::Поступай правильно', 'Уровень ПЦК::АК КСУФ',\n",
    "                                'Уровень ПЦК::Расчет субсидий', 'Уровень ПЦК::Нормативные затраты', 'Уровень ПЦК::Повышение квалификации и семинары', 'Разное')):\n",
    "    for name in names:\n",
    "        filt = faq_df['queue'] == name\n",
    "        faq_df.loc[filt, 'queue'] = general_name"
   ]
  },
  {
   "cell_type": "code",
   "execution_count": 37,
   "id": "7508385b",
   "metadata": {},
   "outputs": [],
   "source": [
    "faq_df.drop(['number', 'status', 'last_mgs'], axis=1, inplace=True)\n",
    "faq_df.columns = ['target', 'data']"
   ]
  },
  {
   "cell_type": "code",
   "execution_count": 39,
   "id": "9a989ca8",
   "metadata": {},
   "outputs": [
    {
     "data": {
      "text/html": [
       "<div>\n",
       "<style scoped>\n",
       "    .dataframe tbody tr th:only-of-type {\n",
       "        vertical-align: middle;\n",
       "    }\n",
       "\n",
       "    .dataframe tbody tr th {\n",
       "        vertical-align: top;\n",
       "    }\n",
       "\n",
       "    .dataframe thead th {\n",
       "        text-align: right;\n",
       "    }\n",
       "</style>\n",
       "<table border=\"1\" class=\"dataframe\">\n",
       "  <thead>\n",
       "    <tr style=\"text-align: right;\">\n",
       "      <th></th>\n",
       "      <th>Category</th>\n",
       "      <th>Count</th>\n",
       "      <th>Fraction, %</th>\n",
       "    </tr>\n",
       "  </thead>\n",
       "  <tbody>\n",
       "    <tr>\n",
       "      <th>0</th>\n",
       "      <td>Центр приема обращений</td>\n",
       "      <td>10028</td>\n",
       "      <td>46.122712</td>\n",
       "    </tr>\n",
       "    <tr>\n",
       "      <th>3</th>\n",
       "      <td>Уровень ПЦК::Поступай правильно</td>\n",
       "      <td>5132</td>\n",
       "      <td>23.604084</td>\n",
       "    </tr>\n",
       "    <tr>\n",
       "      <th>5</th>\n",
       "      <td>Уровень ПЦК::ПОУ</td>\n",
       "      <td>2066</td>\n",
       "      <td>9.502346</td>\n",
       "    </tr>\n",
       "    <tr>\n",
       "      <th>2</th>\n",
       "      <td>Уровень ПЦК:: Бюджетирование и ПФХД</td>\n",
       "      <td>1260</td>\n",
       "      <td>5.795235</td>\n",
       "    </tr>\n",
       "    <tr>\n",
       "      <th>9</th>\n",
       "      <td>Уровень ПЦК::ГЗ</td>\n",
       "      <td>1180</td>\n",
       "      <td>5.427284</td>\n",
       "    </tr>\n",
       "    <tr>\n",
       "      <th>11</th>\n",
       "      <td>Уровень ПЦК::Повышение квалификации и семинары</td>\n",
       "      <td>767</td>\n",
       "      <td>3.527734</td>\n",
       "    </tr>\n",
       "    <tr>\n",
       "      <th>10</th>\n",
       "      <td>Уровень ПЦК::Расчет субсидий</td>\n",
       "      <td>377</td>\n",
       "      <td>1.733971</td>\n",
       "    </tr>\n",
       "    <tr>\n",
       "      <th>8</th>\n",
       "      <td>Уровень ПЦК::ЗПМОН</td>\n",
       "      <td>232</td>\n",
       "      <td>1.067059</td>\n",
       "    </tr>\n",
       "    <tr>\n",
       "      <th>12</th>\n",
       "      <td>Уровень ПЦК::Отчеты о результатах деятельности</td>\n",
       "      <td>220</td>\n",
       "      <td>1.011866</td>\n",
       "    </tr>\n",
       "    <tr>\n",
       "      <th>1</th>\n",
       "      <td>Разное</td>\n",
       "      <td>134</td>\n",
       "      <td>0.616319</td>\n",
       "    </tr>\n",
       "    <tr>\n",
       "      <th>7</th>\n",
       "      <td>Уровень ПЦК::Рейтинг ФМ</td>\n",
       "      <td>124</td>\n",
       "      <td>0.570325</td>\n",
       "    </tr>\n",
       "    <tr>\n",
       "      <th>4</th>\n",
       "      <td>Уровень ПЦК::Нормативные затраты</td>\n",
       "      <td>111</td>\n",
       "      <td>0.510533</td>\n",
       "    </tr>\n",
       "    <tr>\n",
       "      <th>6</th>\n",
       "      <td>Уровень ПЦК::АК КСУФ</td>\n",
       "      <td>111</td>\n",
       "      <td>0.510533</td>\n",
       "    </tr>\n",
       "  </tbody>\n",
       "</table>\n",
       "</div>"
      ],
      "text/plain": [
       "                                          Category  Count  Fraction, %\n",
       "0                           Центр приема обращений  10028    46.122712\n",
       "3                  Уровень ПЦК::Поступай правильно   5132    23.604084\n",
       "5                                 Уровень ПЦК::ПОУ   2066     9.502346\n",
       "2              Уровень ПЦК:: Бюджетирование и ПФХД   1260     5.795235\n",
       "9                                  Уровень ПЦК::ГЗ   1180     5.427284\n",
       "11  Уровень ПЦК::Повышение квалификации и семинары    767     3.527734\n",
       "10                    Уровень ПЦК::Расчет субсидий    377     1.733971\n",
       "8                               Уровень ПЦК::ЗПМОН    232     1.067059\n",
       "12  Уровень ПЦК::Отчеты о результатах деятельности    220     1.011866\n",
       "1                                           Разное    134     0.616319\n",
       "7                          Уровень ПЦК::Рейтинг ФМ    124     0.570325\n",
       "4                 Уровень ПЦК::Нормативные затраты    111     0.510533\n",
       "6                             Уровень ПЦК::АК КСУФ    111     0.510533"
      ]
     },
     "execution_count": 39,
     "metadata": {},
     "output_type": "execute_result"
    }
   ],
   "source": [
    "# statistics by categories\n",
    "size_list = []\n",
    "fraction_list = []\n",
    "for queue in faq_df['target'].unique():\n",
    "    size_list.append(faq_df[faq_df['target'] == queue].apply(len)['target'])\n",
    "    fraction_list.append((faq_df[faq_df['target'] == queue].apply(len)['target'] / faq_df['target'].count())* 100)\n",
    "    \n",
    "info_df = pd.DataFrame({'Category': faq_df['target'].unique(), 'Count': size_list, 'Fraction, %': fraction_list})\n",
    "info_df.sort_values(by='Count', ascending=False, inplace=True)\n",
    "info_df"
   ]
  },
  {
   "cell_type": "code",
   "execution_count": 49,
   "id": "e2a67855",
   "metadata": {},
   "outputs": [],
   "source": [
    "# save to csv\n",
    "faq_df.to_csv('datasets\\\\final_FAQ_dataset.csv', header = True, sep='\\t', index=False)"
   ]
  },
  {
   "cell_type": "markdown",
   "id": "63f981f5",
   "metadata": {},
   "source": [
    "**Reuters sample**"
   ]
  },
  {
   "cell_type": "code",
   "execution_count": 25,
   "id": "0ffa8937",
   "metadata": {},
   "outputs": [
    {
     "name": "stdout",
     "output_type": "stream",
     "text": [
      "Категория объем\n",
      "earn\t3964\n",
      "acq\t2369\n",
      "money-fx\t717\n",
      "grain\t582\n",
      "crude\t578\n"
     ]
    }
   ],
   "source": [
    "# volume of each category\n",
    "cat_dict = Counter()\n",
    "for cat in reuters.categories():\n",
    "    cat_dict[cat] = len(reuters.fileids(cat))\n",
    "top_7 =  dict(cat_dict.most_common(5))\n",
    "print('Категория', 'объем')\n",
    "for key, value in top_7.items():\n",
    "    print(key, value, sep='\\t')"
   ]
  },
  {
   "cell_type": "code",
   "execution_count": 29,
   "id": "7aefe4fd",
   "metadata": {
    "scrolled": true
   },
   "outputs": [
    {
     "name": "stdout",
     "output_type": "stream",
     "text": [
      "earn\t3931\n",
      "acq\t2345\n",
      "money-fx\t713\n",
      "grain\t580\n",
      "crude\t578\n"
     ]
    }
   ],
   "source": [
    "# choose category for each text by category with min volume\n",
    "y_whole = []\n",
    "indexes_to_save = []\n",
    "for ids in reuters.fileids():\n",
    "    file_cats = []\n",
    "    for cat in reuters.categories(ids):\n",
    "        try:\n",
    "            file_cats.append((top_7[cat], cat))\n",
    "        except KeyError:\n",
    "            continue\n",
    "    if file_cats:\n",
    "        y_whole.append(min(file_cats)[1])\n",
    "        indexes_to_save.append(ids)\n",
    "# after resampling\n",
    "for key, value in Counter(y_whole).most_common(5):\n",
    "    print(key, value, sep='\\t')"
   ]
  },
  {
   "cell_type": "code",
   "execution_count": 42,
   "id": "bd13eaef",
   "metadata": {},
   "outputs": [],
   "source": [
    "sampled_texts = [reuters.raw(ids) for ids in indexes_to_save]\n",
    "reuters_df = pd.DataFrame({'data':sampled_texts, 'target':y_whole}).sample(frac=1, random_state=42)"
   ]
  },
  {
   "cell_type": "code",
   "execution_count": 44,
   "id": "32ee2908",
   "metadata": {},
   "outputs": [],
   "source": [
    "en_stop_words = get_stop_words('english') + list(string.ascii_lowercase)\n",
    "def en_preprocessing(message):\n",
    "    '''\n",
    "    Extracting russian terms, normalizing them and erasing stop-words\n",
    "    '''\n",
    "    terms =  ' '.join(re.findall(r'\\w\\.\\w\\.|[a-z]+', message.lower()))\n",
    "    doc = nlp(terms)\n",
    "    normalized_terms = [token.lemma_ for token in doc]\n",
    "    return ' '.join([term for term in normalized_terms if term not in en_stop_words])"
   ]
  },
  {
   "cell_type": "code",
   "execution_count": 45,
   "id": "17db8e6f",
   "metadata": {},
   "outputs": [],
   "source": [
    "# preprocessing\n",
    "reuters_df['data'] = reuters_df['data'].apply(en_preprocessing)"
   ]
  },
  {
   "cell_type": "code",
   "execution_count": 75,
   "id": "85d8f191",
   "metadata": {},
   "outputs": [],
   "source": [
    "# save to csv\n",
    "reuters_df.to_csv('datasets\\\\reuters_dataset.csv', header = True, sep='\\t', index=False)"
   ]
  },
  {
   "cell_type": "markdown",
   "id": "50df2539",
   "metadata": {},
   "source": [
    "**20Newsgroups sample**"
   ]
  },
  {
   "cell_type": "code",
   "execution_count": 52,
   "id": "5e9bf37e",
   "metadata": {},
   "outputs": [],
   "source": [
    "cats = ['alt.atheism',\n",
    " 'comp.sys.ibm.pc.hardware',\n",
    " 'comp.windows.x',\n",
    " 'misc.forsale',\n",
    " 'rec.autos',\n",
    " 'rec.sport.hockey',\n",
    " 'sci.crypt',\n",
    " 'sci.space',\n",
    " 'soc.religion.christian',\n",
    " 'talk.religion.misc']\n",
    "newsgroups_train = fetch_20newsgroups(subset='train', categories=cats)\n",
    "newsgroups_test = fetch_20newsgroups(subset='test', categories=cats)"
   ]
  },
  {
   "cell_type": "code",
   "execution_count": 68,
   "id": "e918f7e3",
   "metadata": {},
   "outputs": [],
   "source": [
    "newsgroups_df = pd.DataFrame({'data':newsgroups_train['data'] + newsgroups_test['data'], 'target':np.hstack([newsgroups_train['target'], newsgroups_test['target']])}).sample(frac=1, random_state=42)"
   ]
  },
  {
   "cell_type": "code",
   "execution_count": 70,
   "id": "7da93398",
   "metadata": {},
   "outputs": [],
   "source": [
    "# preprocessing\n",
    "newsgroups_df['data'] = newsgroups_df['data'].apply(en_preprocessing)"
   ]
  },
  {
   "cell_type": "code",
   "execution_count": 74,
   "id": "0b160d9c",
   "metadata": {},
   "outputs": [],
   "source": [
    "# save to csv\n",
    "newsgroups_df.to_csv('datasets\\\\newsgroups.csv', header = True, sep='\\t', index=False)"
   ]
  },
  {
   "cell_type": "markdown",
   "id": "16b06c4e",
   "metadata": {},
   "source": [
    "**Amazon sample**"
   ]
  },
  {
   "cell_type": "code",
   "execution_count": 82,
   "id": "db778513",
   "metadata": {},
   "outputs": [],
   "source": [
    "amazon_df = pd.read_csv('train_40k.csv')"
   ]
  },
  {
   "cell_type": "code",
   "execution_count": 86,
   "id": "203698a6",
   "metadata": {},
   "outputs": [],
   "source": [
    "amazon_df = amazon_df[['Text', 'Cat1']]\n",
    "amazon_df.columns = ['data', 'target']"
   ]
  },
  {
   "cell_type": "code",
   "execution_count": 88,
   "id": "1888aa3c",
   "metadata": {},
   "outputs": [],
   "source": [
    "# preprocessing\n",
    "amazon_df['data'] = amazon_df['data'].apply(en_preprocessing)"
   ]
  },
  {
   "cell_type": "code",
   "execution_count": 89,
   "id": "432814fa",
   "metadata": {},
   "outputs": [],
   "source": [
    "# save to csv\n",
    "amazon_df.to_csv('datasets\\\\amazon.csv', header = True, sep='\\t', index=False)"
   ]
  }
 ],
 "metadata": {
  "kernelspec": {
   "display_name": "Python 3 (ipykernel)",
   "language": "python",
   "name": "python3"
  },
  "language_info": {
   "codemirror_mode": {
    "name": "ipython",
    "version": 3
   },
   "file_extension": ".py",
   "mimetype": "text/x-python",
   "name": "python",
   "nbconvert_exporter": "python",
   "pygments_lexer": "ipython3",
   "version": "3.9.7"
  }
 },
 "nbformat": 4,
 "nbformat_minor": 5
}
