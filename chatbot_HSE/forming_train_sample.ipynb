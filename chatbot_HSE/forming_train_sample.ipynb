{
 "cells": [
  {
   "cell_type": "code",
   "execution_count": 1,
   "id": "7e1af64e",
   "metadata": {},
   "outputs": [],
   "source": [
    "import pandas as pd\n",
    "import numpy as np\n",
    "import pymorphy2"
   ]
  },
  {
   "cell_type": "code",
   "execution_count": 2,
   "id": "b31ad512",
   "metadata": {},
   "outputs": [],
   "source": [
    "df = pd.read_excel('augmented_sample.xlsx')"
   ]
  },
  {
   "cell_type": "code",
   "execution_count": 3,
   "id": "88f56861",
   "metadata": {},
   "outputs": [
    {
     "data": {
      "text/plain": [
       "'CONJ'"
      ]
     },
     "execution_count": 3,
     "metadata": {},
     "output_type": "execute_result"
    }
   ],
   "source": [
    "morph = pymorphy2.MorphAnalyzer()\n",
    "morph.parse('чем')[0].tag.POS "
   ]
  },
  {
   "cell_type": "code",
   "execution_count": 4,
   "id": "05a3e7cd",
   "metadata": {},
   "outputs": [],
   "source": [
    "add_dict = {'verb':['как ', 'хочу ', 'что нужно для того, чтобы '], \n",
    " 'noun':['как получить ', 'оформить ', 'сделать ', 'заказать '],\n",
    "'заявление':['как подать ', 'бланк ']}"
   ]
  },
  {
   "cell_type": "code",
   "execution_count": 5,
   "id": "c0837dc0",
   "metadata": {},
   "outputs": [],
   "source": [
    "stop_words = ['в', 'и', 'на', 'что', 'для', 'об', 'чтобы', 'и/или']"
   ]
  },
  {
   "cell_type": "code",
   "execution_count": 6,
   "id": "503ef41a",
   "metadata": {},
   "outputs": [],
   "source": [
    "target_copy = []\n",
    "anchors = []\n",
    "zeros = []\n",
    "for row in df.iterrows():\n",
    "    zero_anchs = list(df[df['категория'] != row[1][1]].sample(frac=1)['вопрос'])\n",
    "    anchors.extend(zero_anchs)\n",
    "    target_copy.extend([row[1][0]]*len(zero_anchs))\n",
    "    zeros.extend([0]*len(zero_anchs))"
   ]
  },
  {
   "cell_type": "code",
   "execution_count": 7,
   "id": "fe206278",
   "metadata": {},
   "outputs": [],
   "source": [
    "anchs = []\n",
    "targs = []\n",
    "ones = []\n",
    "for row in df.iterrows():\n",
    "    req = [term for term in row[1][0].rstrip('?').split() if term not in stop_words]\n",
    "    if req[0] in ('Готовность', 'статус'):\n",
    "        anch = 'как узнать ' + row[1][0]\n",
    "        anchs.extend([anch, row[1][0]])\n",
    "        targs.extend([row[1][0]]*2)\n",
    "        ones.extend([1]*2)\n",
    "    elif row[1][1] in ('информация УО', 'отсрочка от армии'):\n",
    "        anchs.append(row[1][0])\n",
    "        targs.append(row[1][0])\n",
    "        ones.append(1)\n",
    "    else:\n",
    "        if row[1][1] in ['мои документы', 'студенты', 'коммерция', 'бывшие студенты', 'сотрудники', 'Пропускная система']:\n",
    "            parts_of_speech = list(map(lambda x: morph.parse(x)[0].tag.POS, req))\n",
    "            if ('VERB' in parts_of_speech or 'INFN' in parts_of_speech) and 'CONJ' in parts_of_speech or sum(list(map(lambda x: x in ('VERB', 'INFN'), parts_of_speech))) > 1:\n",
    "#                 print(row[1][0], end='conj\\n')\n",
    "                if 'ADJF' in parts_of_speech:\n",
    "                    idx = min(parts_of_speech.index('ADJF'), parts_of_speech.index('NOUN'))\n",
    "                else:\n",
    "                    idx = parts_of_speech.index('NOUN')\n",
    "                anchor = ' '.join(row[1][0].split()[idx:])\n",
    "                anchs.extend([anchor, row[1][0]])\n",
    "                targs.extend([row[1][0]]*2)\n",
    "                ones.extend([1]*2)\n",
    "            elif ('VERB' in parts_of_speech or 'INFN' in parts_of_speech) and 'CONJ' not in parts_of_speech:\n",
    "#                 print(row[1][0], end=' verb\\n')\n",
    "                anchor = [add + row[1][0] for add in add_dict['verb']]\n",
    "                anchor.append(row[1][0])\n",
    "                anchs.extend(anchor)\n",
    "                targs.extend([row[1][0]]*len(anchor))\n",
    "                ones.extend([1]*len(anchor))\n",
    "            else:\n",
    "#                 print(row[1][0])\n",
    "                anchor = [add + row[1][0] for add in add_dict['noun']]\n",
    "                anchor.append(row[1][0])\n",
    "                anchs.extend(anchor)\n",
    "                targs.extend([row[1][0]]*len(anchor))\n",
    "                ones.extend([1]*len(anchor))\n",
    "#                 print(*anchor, sep='\\n')\n",
    "        if row[1][1] == 'заявления':\n",
    "            if req[0] in ['Заявление', 'Мотивационное', 'Объяснительная', 'Согласие', 'Внесение']:\n",
    "    #             print(row[1][0])\n",
    "                anchor = [add + row[1][0] for add in add_dict['заявление']]\n",
    "                anchor.append(row[1][0])\n",
    "                anchs.extend(anchor)\n",
    "                targs.extend([row[1][0]]*len(anchor))\n",
    "                ones.extend([1]*len(anchor))\n",
    "    #             print(*anchor, sep='\\n')\n",
    "            elif req[0] == 'Характеристика':\n",
    "                anchor = [add + row[1][0] for add in add_dict['noun']]\n",
    "                anchor.append(row[1][0])\n",
    "                anchs.extend(anchor)\n",
    "                targs.extend([row[1][0]]*len(anchor))\n",
    "                ones.extend([1]*len(anchor))\n",
    "#                 print(*anchor, sep='\\n')\n"
   ]
  },
  {
   "cell_type": "code",
   "execution_count": 8,
   "id": "789a70c1",
   "metadata": {},
   "outputs": [],
   "source": [
    "pd.DataFrame({'target':targs+target_copy, 'anchor':anchs+anchors, 'score':ones+zeros}).sample(frac=1).to_excel('train_sample1.xlsx', header=True, index=False)"
   ]
  },
  {
   "cell_type": "code",
   "execution_count": null,
   "id": "1a5112dd",
   "metadata": {},
   "outputs": [],
   "source": []
  }
 ],
 "metadata": {
  "kernelspec": {
   "display_name": "Python 3 (ipykernel)",
   "language": "python",
   "name": "python3"
  },
  "language_info": {
   "codemirror_mode": {
    "name": "ipython",
    "version": 3
   },
   "file_extension": ".py",
   "mimetype": "text/x-python",
   "name": "python",
   "nbconvert_exporter": "python",
   "pygments_lexer": "ipython3",
   "version": "3.9.7"
  }
 },
 "nbformat": 4,
 "nbformat_minor": 5
}
