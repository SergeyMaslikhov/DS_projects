{
 "cells": [
  {
   "cell_type": "code",
   "execution_count": 1,
   "id": "4fc4a8f7",
   "metadata": {},
   "outputs": [],
   "source": [
    "import os\n",
    "import pandas as pd\n",
    "import numpy as np\n",
    "\n",
    "from sentence_transformers import SentenceTransformer, util\n",
    "from numpy import linalg as LA\n",
    "import re\n",
    "import pymorphy2\n",
    "import math"
   ]
  },
  {
   "cell_type": "code",
   "execution_count": 2,
   "id": "62ccc70f",
   "metadata": {},
   "outputs": [],
   "source": [
    "class Transformer():\n",
    "    def __init__(self, name):\n",
    "        self.df = pd.read_excel('augmented_sample.xlsx')\n",
    "        self.model = SentenceTransformer(name)\n",
    "        self.sample_encoded = self.model.encode(self.df['вопрос'])\n",
    "        self.morph = pymorphy2.MorphAnalyzer()\n",
    "        self.dct = {'мат': 'материальная',\n",
    "                    'студак': 'студенческий билет',\n",
    "                    'вышка' : 'НИУ ВШЭ',\n",
    "                    'академ' : 'академический отпуск',\n",
    "                    'труба' : 'телефон',\n",
    "                    'учебок' : 'учебный офис МИЭМ',\n",
    "                    }\n",
    "        self.sample_norms = LA.norm(self.sample_encoded, axis=1)\n",
    "\n",
    "    def preprocessing(self, message):\n",
    "        russian_terms =  re.findall(r'[а-яА-Яё]+', message)\n",
    "        mas = []\n",
    "        for el in russian_terms:\n",
    "            mas.append(self.dct.get(self.morph.parse(el)[0].normal_form, el))\n",
    "        return \" \".join(mas)\n",
    "    \n",
    "\n",
    "    def get_best_three(self, question, threshold=0.7, n=3):\n",
    "        question = self.preprocessing(question)\n",
    "        vect_quest = self.model.encode(question)\n",
    "        dots = np.array(util.dot_score(vect_quest, self.sample_encoded)[0]).clip(min=0)\n",
    "        cosine_similarities = dots / (self.sample_norms * LA.norm(vect_quest))\n",
    "        indices = (-cosine_similarities).argsort()[:n]\n",
    "        coefs = np.abs(np.sort(-cosine_similarities)[:n])\n",
    "        if coefs[0] < threshold:\n",
    "            return None\n",
    "        return self.df.iloc[list(indices), :].values, indices"
   ]
  },
  {
   "cell_type": "code",
   "execution_count": 3,
   "id": "0cf2df85",
   "metadata": {},
   "outputs": [
    {
     "name": "stderr",
     "output_type": "stream",
     "text": [
      "WARNING:root:No sentence-transformers model found with name C:\\Users\\masli/.cache\\torch\\sentence_transformers\\DeepPavlov_rubert-base-cased-sentence. Creating a new one with MEAN pooling.\n",
      "WARNING:root:No sentence-transformers model found with name C:\\Users\\masli/.cache\\torch\\sentence_transformers\\cointegrated_rubert-tiny. Creating a new one with MEAN pooling.\n",
      "Some weights of the model checkpoint at C:\\Users\\masli/.cache\\torch\\sentence_transformers\\cointegrated_rubert-tiny were not used when initializing BertModel: ['cls.predictions.bias', 'cls.predictions.transform.dense.weight', 'cls.seq_relationship.weight', 'cls.predictions.decoder.bias', 'cls.seq_relationship.bias', 'cls.predictions.transform.LayerNorm.bias', 'cls.predictions.transform.dense.bias', 'cls.predictions.transform.LayerNorm.weight', 'cls.predictions.decoder.weight']\n",
      "- This IS expected if you are initializing BertModel from the checkpoint of a model trained on another task or with another architecture (e.g. initializing a BertForSequenceClassification model from a BertForPreTraining model).\n",
      "- This IS NOT expected if you are initializing BertModel from the checkpoint of a model that you expect to be exactly identical (initializing a BertForSequenceClassification model from a BertForSequenceClassification model).\n"
     ]
    }
   ],
   "source": [
    "#loading sample\n",
    "df = pd.read_excel('augmented_sample.xlsx')\n",
    "#loading models\n",
    "pretrained_pavlov = Transformer('DeepPavlov/rubert-base-cased-sentence')\n",
    "pretrained_qa = Transformer('sentence-transformers/multi-qa-MiniLM-L6-cos-v1')\n",
    "pretrained_tiny = Transformer('cointegrated/rubert-tiny')"
   ]
  },
  {
   "cell_type": "code",
   "execution_count": 4,
   "id": "d22f2c16",
   "metadata": {},
   "outputs": [],
   "source": [
    "def get_aggregated_results(message, df, *models):\n",
    "    answers = np.array([model.get_best_three(message)[1] for model in models if model.get_best_three(message) is not None])\n",
    "    if len(answers) < math.ceil(len(models) / 2):\n",
    "        return None\n",
    "    stacked = np.vstack(answers)\n",
    "#     return stacked\n",
    "    answer_num = stacked.shape[1]\n",
    "    indices = []\n",
    "    for i in range(answer_num):\n",
    "        indices.append(np.unique(stacked[:, i]))\n",
    "    result = np.hstack(indices)[:answer_num]\n",
    "    return df.iloc[result, :].values"
   ]
  },
  {
   "cell_type": "code",
   "execution_count": 5,
   "id": "72841fc9",
   "metadata": {},
   "outputs": [
    {
     "data": {
      "text/plain": [
       "array([['адрес учебного офиса', 'информация УО',\n",
       "        '123458, г. Москва, ул. Таллинская, д.34', nan, nan],\n",
       "       ['часы работы учебного офиса', 'информация УО',\n",
       "        'Посетить Учебный офис лично можно с понедельника по пятницу с 10:00 до 17:00 (за исключением праздничных и выходных дней)',\n",
       "        nan, nan],\n",
       "       ['кабинет руководителя учебного офиса', 'информация УО',\n",
       "        'кабинет руководителя учебного офиса - к.315', nan, nan]],\n",
       "      dtype=object)"
      ]
     },
     "execution_count": 5,
     "metadata": {},
     "output_type": "execute_result"
    }
   ],
   "source": [
    "get_aggregated_results('что такое учебный офис', df, pretrained_pavlov, pretrained_qa, pretrained_tiny)"
   ]
  },
  {
   "cell_type": "code",
   "execution_count": null,
   "id": "9d397602",
   "metadata": {},
   "outputs": [],
   "source": []
  }
 ],
 "metadata": {
  "kernelspec": {
   "display_name": "Python 3 (ipykernel)",
   "language": "python",
   "name": "python3"
  },
  "language_info": {
   "codemirror_mode": {
    "name": "ipython",
    "version": 3
   },
   "file_extension": ".py",
   "mimetype": "text/x-python",
   "name": "python",
   "nbconvert_exporter": "python",
   "pygments_lexer": "ipython3",
   "version": "3.9.7"
  }
 },
 "nbformat": 4,
 "nbformat_minor": 5
}
