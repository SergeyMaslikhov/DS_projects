{
  "nbformat": 4,
  "nbformat_minor": 0,
  "metadata": {
    "colab": {
      "name": "Test_review.ipynb",
      "provenance": []
    },
    "kernelspec": {
      "name": "python3",
      "display_name": "Python 3"
    },
    "language_info": {
      "name": "python"
    }
  },
  "cells": [
    {
      "cell_type": "code",
      "source": [
        "%%capture\n",
        "!pip install -U sentence-transformers"
      ],
      "metadata": {
        "id": "zlMv932SpJxU"
      },
      "execution_count": 8,
      "outputs": []
    },
    {
      "cell_type": "code",
      "source": [
        "%%capture\n",
        "!pip install pymorphy2"
      ],
      "metadata": {
        "id": "rS2AxjoZpyLl"
      },
      "execution_count": 9,
      "outputs": []
    },
    {
      "cell_type": "markdown",
      "source": [
        "Напишем сами модели.\n",
        "1. Модель трансформер + косинусное расстояние\n",
        "2. Модель косинусное расстояние"
      ],
      "metadata": {
        "id": "F4TEk85UmqKN"
      }
    },
    {
      "cell_type": "code",
      "source": [
        "import pandas as pd\n",
        "import numpy as np\n",
        "from sentence_transformers import SentenceTransformer, util\n",
        "from sklearn.metrics.pairwise import cosine_similarity\n",
        "import re\n",
        "import pymorphy2\n",
        "from sklearn.feature_extraction.text import CountVectorizer\n",
        "\n",
        "\n",
        "class TransferModel():\n",
        "    def __init__(self):\n",
        "        self.df = pd.read_excel('augmented_sample.xlsx')\n",
        "        self.model = SentenceTransformer('sentence-transformers/multi-qa-MiniLM-L6-cos-v1')\n",
        "        self.sample_encoded = self.df['вопрос'].apply(lambda x: self.model.encode(x))\n",
        "        self.morph = pymorphy2.MorphAnalyzer()\n",
        "        self.dct = {'мат': 'материальная',\n",
        "                    'студак': 'студенческий билет',\n",
        "                    'вышка' : 'высшая школа экономики',\n",
        "                    'академ' : 'академический отпуск',\n",
        "                    'труба' : 'телефон',\n",
        "                    'учебк' : 'учебный офис',\n",
        "                    }\n",
        "\n",
        "    def preprocessing(self, message):\n",
        "        russian_terms =  re.findall(r'[а-яА-Яё]+', message)\n",
        "        normalized_terms = list(map(lambda x: self.morph.parse(x)[0].normal_form, russian_terms))\n",
        "        return ' '.join(normalized_terms)\n",
        "    \n",
        "    def slang_filter(self, question):\n",
        "        mas = []\n",
        "        for el in question.split():\n",
        "            temp = self.preprocessing(el)\n",
        "            if temp in self.dct:\n",
        "                temp = self.dct[temp]\n",
        "                mas.append(temp)\n",
        "            elif temp[:-1] in self.dct:\n",
        "                temp = self.dct[temp[:-1]]\n",
        "                mas.append(temp)\n",
        "            else:\n",
        "                mas.append(el)\n",
        "        return \" \".join(mas)\n",
        "\n",
        "\n",
        "    def get_best_three(self, question, n=3):\n",
        "        question = self.slang_filter(question)\n",
        "        vect_quest = self.model.encode(question)\n",
        "        cosine_similarities = np.array(util.dot_score(vect_quest, self.sample_encoded)[0])\n",
        "        indices = (-cosine_similarities).argsort()[:n]\n",
        "        coefs = np.abs(np.sort(-cosine_similarities)[:n])\n",
        "        if coefs[0] < 0.7:\n",
        "            return None\n",
        "        return self.df.iloc[list(indices), :].values"
      ],
      "metadata": {
        "id": "WVZMquBQnyFQ"
      },
      "execution_count": 10,
      "outputs": []
    },
    {
      "cell_type": "code",
      "source": [
        "class CosModel():\n",
        "    def __init__(self):\n",
        "        self.df = pd.read_excel('augmented_sample.xlsx')\n",
        "        self.morph = pymorphy2.MorphAnalyzer()\n",
        "        self.count = CountVectorizer()\n",
        "        self.sample_transformed = self.count.fit_transform(self.df['вопрос'])\n",
        "        with open('stop_words.txt','rb') as inFile:\n",
        "           self.stop_list = set(inFile.read().split())\n",
        "    \n",
        "    def preprocessing(self, message):\n",
        "        russian_terms =  re.findall(r'[а-яА-Яё]+', message)\n",
        "        normalized_terms = list(map(lambda x: self.morph.parse(x)[0].normal_form, russian_terms))\n",
        "        return ' '.join([term for term in normalized_terms if term not in self.stop_list])\n",
        "    \n",
        "    def get_best_three(self, question, n=3):\n",
        "        vect_quest = self.count.transform([self.preprocessing(question)])\n",
        "        cosine_similarities = cosine_similarity(vect_quest, self.sample_transformed).flatten()\n",
        "        indices = (-cosine_similarities).argsort()[:n]\n",
        "        return self.df.iloc[list(indices), :].values"
      ],
      "metadata": {
        "id": "sTFq7hxvQhOp"
      },
      "execution_count": 11,
      "outputs": []
    },
    {
      "cell_type": "markdown",
      "source": [
        "А теперь проведем 2 теста\n",
        "1. на тренировочных данных\n",
        "2. на тестовой выборке"
      ],
      "metadata": {
        "id": "wx_VXUqJnxl1"
      }
    },
    {
      "cell_type": "code",
      "source": [
        "answers_trans = TransferModel()\n",
        "answers_cos = CosModel()\n",
        "test = pd.read_excel('testing.xlsx')\n",
        "train = pd.read_excel('augmented_sample.xlsx')"
      ],
      "metadata": {
        "id": "vXZaBQXjptQG"
      },
      "execution_count": 12,
      "outputs": []
    },
    {
      "cell_type": "code",
      "source": [
        "def my_accuracy(func):\n",
        "    total = test.shape[0]\n",
        "    correct = 0\n",
        "    for i, row in test.iterrows():\n",
        "        ans = func(row[0])\n",
        "        if ans is None:\n",
        "            if row[1] is None:\n",
        "                correct += 1\n",
        "            continue\n",
        "        mas = [elem[0] for elem in ans]\n",
        "        if row[1] in mas:\n",
        "            correct += 1\n",
        "    return correct, correct / total\n",
        "print(f\"точность модели трансформера: {my_accuracy(answers_trans.get_best_three)[1]}\")\n",
        "print(f\"точности косинусной модели: {my_accuracy(answers_cos.get_best_three)[1]}\")"
      ],
      "metadata": {
        "id": "1EvK9wVoTjLk",
        "colab": {
          "base_uri": "https://localhost:8080/"
        },
        "outputId": "ec58d245-47c4-4f8f-f929-346faf32273f"
      },
      "execution_count": 13,
      "outputs": [
        {
          "output_type": "stream",
          "name": "stdout",
          "text": [
            "точность модели трансформера: 0.75\n",
            "точности косинусной модели: 0.53125\n"
          ]
        }
      ]
    },
    {
      "cell_type": "code",
      "source": [
        "def my_train_accuracy(func):\n",
        "    total = train.shape[0]\n",
        "    correct = 0\n",
        "    for i, row in train.iterrows():\n",
        "        ans = func(row[0])\n",
        "        if ans is None:\n",
        "            continue\n",
        "        mas = [elem[0] for elem in ans]\n",
        "        if row[0] in mas:\n",
        "            correct += 1\n",
        "    return correct, correct / total\n",
        "\n",
        "print(f\"точность модели трансформера: {my_train_accuracy(answers_trans.get_best_three)[1]}\")\n",
        "print(f\"точности косинусной модели: {my_train_accuracy(answers_cos.get_best_three)[1]}\")"
      ],
      "metadata": {
        "colab": {
          "base_uri": "https://localhost:8080/"
        },
        "id": "Dv_t5xTjlj7y",
        "outputId": "f97db834-9545-44e0-b0b4-42004473d1a8"
      },
      "execution_count": 14,
      "outputs": [
        {
          "output_type": "stream",
          "name": "stdout",
          "text": [
            "точность модели трансформера: 1.0\n",
            "точности косинусной модели: 0.8728813559322034\n"
          ]
        }
      ]
    },
    {
      "cell_type": "markdown",
      "source": [
        "Легко заметить, что качество предложенной модели увеличилось"
      ],
      "metadata": {
        "id": "RYVMd9VPn9pa"
      }
    },
    {
      "cell_type": "code",
      "source": [
        "import matplotlib.pyplot as plt\n",
        "new_model = my_accuracy(answers_trans.get_best_three)[1]\n",
        "old_model = my_accuracy(answers_cos.get_best_three)[1]\n",
        "fig = plt.figure()\n",
        "ax = fig.add_axes([0,0,1,1])\n",
        "ax.bar('Transfer model', new_model, color='b')\n",
        "ax.bar('Cosine similarity model', old_model, color='r')\n",
        "ax.set_ylabel('Accuracy')\n",
        "ax.set_title('Сравнение метрики точности для моделей')\n",
        "ax.set_yticks(np.arange(0, 1.1, 0.1))\n",
        "plt.show()"
      ],
      "metadata": {
        "colab": {
          "base_uri": "https://localhost:8080/",
          "height": 352
        },
        "id": "5xEoWwuzYHtm",
        "outputId": "d2f6dc48-e4a0-42e1-cb91-93a81fd5a6ec"
      },
      "execution_count": 15,
      "outputs": [
        {
          "output_type": "display_data",
          "data": {
            "text/plain": [
              "<Figure size 432x288 with 1 Axes>"
            ],
            "image/png": "[encoded data removed]"
          },
          "metadata": {
            "needs_background": "light"
          }
        }
      ]
    },
    {
      "cell_type": "markdown",
      "source": [
        "А теперь посмотрим, каких результатов добьются другие модели, которые также рассматривались."
      ],
      "metadata": {
        "id": "_IW9BBBxoErV"
      }
    },
    {
      "cell_type": "code",
      "source": [
        "class TestModel():\n",
        "    def __init__(self, name):\n",
        "        self.name = name\n",
        "        self.df = pd.read_excel('augmented_sample.xlsx')\n",
        "        self.model = SentenceTransformer(name)\n",
        "        self.sample_encoded = self.df['вопрос'].apply(lambda x: self.model.encode(x))\n",
        "        self.morph = pymorphy2.MorphAnalyzer()\n",
        "        self.dct = {'мат': 'материальная',\n",
        "                    'студак': 'студенческий билет',\n",
        "                    'вышка' : 'высшая школа экономики',\n",
        "                    'академ' : 'академический отпуск',\n",
        "                    'труба' : 'телефон',\n",
        "                    'учебк' : 'учебный офис',\n",
        "                    }\n",
        "\n",
        "    def preprocessing(self, message):\n",
        "        russian_terms =  re.findall(r'[а-яА-Яё]+', message)\n",
        "        normalized_terms = list(map(lambda x: self.morph.parse(x)[0].normal_form, russian_terms))\n",
        "        return ' '.join(normalized_terms)\n",
        "    \n",
        "    def slang_filter(self, question):\n",
        "        mas = []\n",
        "        for el in question.split():\n",
        "            temp = self.preprocessing(el)\n",
        "            if temp in self.dct:\n",
        "                temp = self.dct[temp]\n",
        "                mas.append(temp)\n",
        "            elif temp[:-1] in self.dct:\n",
        "                temp = self.dct[temp[:-1]]\n",
        "                mas.append(temp)\n",
        "            else:\n",
        "                mas.append(el)\n",
        "        return \" \".join(mas)\n",
        "\n",
        "\n",
        "    def get_best_three(self, question, n=3):\n",
        "        question = self.slang_filter(question)\n",
        "        vect_quest = self.model.encode(question)\n",
        "        cosine_similarities = np.array(util.dot_score(vect_quest, self.sample_encoded)[0])\n",
        "        indices = (-cosine_similarities).argsort()[:n]\n",
        "        coefs = np.abs(np.sort(-cosine_similarities)[:n])\n",
        "        return [self.df.iloc[list(indices), :].values, coefs]"
      ],
      "metadata": {
        "id": "ujhN5EgbZPvU"
      },
      "execution_count": 16,
      "outputs": []
    },
    {
      "cell_type": "code",
      "source": [
        "pre_trained = ['sentence-transformers/multi-qa-MiniLM-L6-cos-v1',\n",
        "               'DeepPavlov/rubert-base-cased-sentence',\n",
        "               'cointegrated/rubert-tiny',\n",
        "               'bert-base-multilingual-cased',\n",
        "               'sentence-transformers/LaBSE',\n",
        "               ]\n",
        "results = []\n",
        "def my_new_accuracy(func):\n",
        "    total = test.shape[0]\n",
        "    correct = 0\n",
        "    for i, row in test.iterrows():\n",
        "        ans = func(row[0])\n",
        "        if ans is None:\n",
        "            continue\n",
        "        mas = [elem[0] for elem in ans[0]]\n",
        "        if row[1] in mas:\n",
        "            correct += 1\n",
        "    return correct, correct / total\n",
        "\n",
        "\n",
        "for name in pre_trained:\n",
        "    model = TestModel(name)\n",
        "    res = my_new_accuracy(model.get_best_three)\n",
        "    results.append([name, res])"
      ],
      "metadata": {
        "colab": {
          "base_uri": "https://localhost:8080/"
        },
        "id": "kppQeuP9dr8Q",
        "outputId": "5838a2fc-59bb-492f-8c16-e2dc542279cf"
      },
      "execution_count": 17,
      "outputs": [
        {
          "output_type": "stream",
          "name": "stderr",
          "text": [
            "WARNING:root:No sentence-transformers model found with name /root/.cache/torch/sentence_transformers/DeepPavlov_rubert-base-cased-sentence. Creating a new one with MEAN pooling.\n",
            "WARNING:root:No sentence-transformers model found with name /root/.cache/torch/sentence_transformers/cointegrated_rubert-tiny. Creating a new one with MEAN pooling.\n",
            "Some weights of the model checkpoint at /root/.cache/torch/sentence_transformers/cointegrated_rubert-tiny were not used when initializing BertModel: ['cls.seq_relationship.bias', 'cls.predictions.bias', 'cls.seq_relationship.weight', 'cls.predictions.transform.LayerNorm.bias', 'cls.predictions.decoder.bias', 'cls.predictions.transform.dense.weight', 'cls.predictions.decoder.weight', 'cls.predictions.transform.LayerNorm.weight', 'cls.predictions.transform.dense.bias']\n",
            "- This IS expected if you are initializing BertModel from the checkpoint of a model trained on another task or with another architecture (e.g. initializing a BertForSequenceClassification model from a BertForPreTraining model).\n",
            "- This IS NOT expected if you are initializing BertModel from the checkpoint of a model that you expect to be exactly identical (initializing a BertForSequenceClassification model from a BertForSequenceClassification model).\n",
            "WARNING:root:No sentence-transformers model found with name /root/.cache/torch/sentence_transformers/bert-base-multilingual-cased. Creating a new one with MEAN pooling.\n",
            "Some weights of the model checkpoint at /root/.cache/torch/sentence_transformers/bert-base-multilingual-cased were not used when initializing BertModel: ['cls.predictions.bias', 'cls.seq_relationship.weight', 'cls.predictions.transform.LayerNorm.bias', 'cls.predictions.transform.dense.weight', 'cls.predictions.decoder.weight', 'cls.predictions.transform.LayerNorm.weight', 'cls.seq_relationship.bias', 'cls.predictions.transform.dense.bias']\n",
            "- This IS expected if you are initializing BertModel from the checkpoint of a model trained on another task or with another architecture (e.g. initializing a BertForSequenceClassification model from a BertForPreTraining model).\n",
            "- This IS NOT expected if you are initializing BertModel from the checkpoint of a model that you expect to be exactly identical (initializing a BertForSequenceClassification model from a BertForSequenceClassification model).\n"
          ]
        }
      ]
    },
    {
      "cell_type": "code",
      "source": [
        "for element in results:\n",
        "    print(f\"{element[0]} accuracy: {element[1][1]}\")"
      ],
      "metadata": {
        "colab": {
          "base_uri": "https://localhost:8080/"
        },
        "id": "8a90_hD2ekeo",
        "outputId": "6ed88dbe-a82b-4565-ca5c-0330c810842e"
      },
      "execution_count": 18,
      "outputs": [
        {
          "output_type": "stream",
          "name": "stdout",
          "text": [
            "sentence-transformers/multi-qa-MiniLM-L6-cos-v1 accuracy: 0.75\n",
            "DeepPavlov/rubert-base-cased-sentence accuracy: 0.6875\n",
            "cointegrated/rubert-tiny accuracy: 0.6875\n",
            "bert-base-multilingual-cased accuracy: 0.65625\n",
            "sentence-transformers/LaBSE accuracy: 0.78125\n"
          ]
        }
      ]
    },
    {
      "cell_type": "code",
      "source": [
        "import matplotlib.pyplot as plt\n",
        "fig = plt.figure()\n",
        "ax = fig.add_axes([0,0,1,1])\n",
        "langs = pre_trained\n",
        "students = [i[1][1] for i in results]\n",
        "ax.set_yticks(np.arange(0, 1.1, 0.1))\n",
        "ax.bar(langs, students)\n",
        "ax.tick_params(axis='x', labelrotation = 90)\n",
        "plt.show()"
      ],
      "metadata": {
        "colab": {
          "base_uri": "https://localhost:8080/",
          "height": 575
        },
        "id": "yw8wWiZigUmu",
        "outputId": "7e42c4c1-fe0d-4079-b79e-a676d637e515"
      },
      "execution_count": 19,
      "outputs": [
        {
          "output_type": "display_data",
          "data": {
            "text/plain": [
              "<Figure size 432x288 with 1 Axes>"
            ],
            "image/png": "[encoded data removed]"
          },
          "metadata": {
            "needs_background": "light"
          }
        }
      ]
    }
  ]
}